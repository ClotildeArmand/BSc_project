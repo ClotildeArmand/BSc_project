{
 "cells": [
  {
   "cell_type": "code",
   "execution_count": 5,
   "metadata": {},
   "outputs": [],
   "source": [
    "from __future__ import print_function, division\n",
    "\n",
    "from math import sqrt as ssqrt\n",
    "from math import cos as scos\n",
    "from math import fabs as fabs     # more restrictive than abs() (in a good way)\n",
    "from numpy import *\n",
    "from scipy import interpolate, integrate\n",
    "from scipy.stats import lognorm\n",
    "from ast import literal_eval\n",
    "import matplotlib.pyplot as plt\n",
    "import numpy as np\n",
    "import warnings\n",
    "def CustomWarning(message, category, filename, lineno):\n",
    "   print(\"%s:%s: %s:%s\" % (filename, lineno, category.__name__, message))\n",
    "warnings.showwarning = CustomWarning\n",
    "from os import path\n",
    "\n",
    "import oscillation_prob as op\n",
    "\n",
    "set_printoptions(precision=5, linewidth=150)\n",
    "\n",
    "plt.rcParams['font.size'] = 14\n",
    "plt.rcParams['xtick.labelsize'] = 12\n",
    "plt.rcParams['ytick.labelsize'] = 12"
   ]
  },
  {
   "cell_type": "markdown",
   "metadata": {},
   "source": [
    "### Example"
   ]
  },
  {
   "cell_type": "code",
   "execution_count": 6,
   "metadata": {},
   "outputs": [
    {
     "name": "stdout",
     "output_type": "stream",
     "text": [
      "Calculating...\n",
      "Calculating the probabilities took 42.242092 seconds.\n",
      " \n",
      " Completed without fatal errors! \n",
      " \n"
     ]
    }
   ],
   "source": [
    "from __future__ import print_function, division\n",
    "\n",
    "from numpy import *\n",
    "max = amax\n",
    "min = amin\n",
    "\n",
    "import os, sys\n",
    "from time import time\n",
    "from sys import stdout\n",
    "from NuCraft import *\n",
    "\n",
    "# number of energy bins\n",
    "eBins = 50\n",
    "# energy range in GeV\n",
    "eList = np.logspace(0, 2, eBins)\n",
    "#linspace(1, 100, eBins)\n",
    "\n",
    "\n",
    "# parameters from arxiv 1205.7071\n",
    "# he is also using the approximation DM31 = DM32\n",
    "\n",
    "DM32 = 2.51e-3\n",
    "sin_squared_23 = 0.452\n",
    "theta23 = np.arcsin(np.sqrt(sin_squared_23))/np.pi*180.\n",
    "DM21   = 7.42e-5\n",
    "sin_squared_13 = 0.02246\n",
    "sin_squared_12 = 0.304\n",
    "theta13 = arcsin(sqrt(sin_squared_13))/pi*180.\n",
    "theta12 = arcsin(sqrt(sin_squared_12))/pi*180.\n",
    "\n",
    "n_theta = 56   # 80 in the total cos-range\n",
    "cos_theta = np.linspace(-1, 0.4, n_theta)    # the rest have probability approx. 1. \n",
    "# We are missing 80-56 = 24 that should be set equal to 1\n",
    "zList = np.arccos(cos_theta)\n",
    "\n",
    "\n",
    "# Akhemdov is implicitely assuming an electron-to-neutron ratio of 0.5; \n",
    "# he is also using the approximation DM31 = DM32;\n",
    "# if you want to reproduce his numbers exactly, switch the lines below, and turn\n",
    "# atmosphereMode to 0 (no handling of the atmosphere because of )\n",
    "# AkhmedovOsci = NuCraft((1., DM21, DM31-DM21), [(1,2,theta12),(1,3,theta13,0),(2,3,theta23)],\n",
    "#                        earthModel=EarthModel(\"prem\", y=(0.5,0.5,0.5))\n",
    "#                        detectorDepth=0., atmHeight=0.)\n",
    "AkhmedovOsci = NuCraft((1., DM21, DM32), [(1,2,theta12),(1,3,theta13,0),(2,3,theta23)])\n",
    "\n",
    "# To compute weights with a non-zero CP-violating phase, replace     ^  this zero\n",
    "# by the corresponding angle (in degrees); this will add the phase to the theta13 mixing matrix,\n",
    "# as it is done in the standard parametrization; alternatively, you can also add CP-violating\n",
    "# phases to the other matrices, but in the 3-flavor case more than one phase are redundant.\n",
    "\n",
    "# atmosphereMode = 0   # use fixed atmsopheric depth (set to 0 km if line 42 is not commented out)\n",
    "atmosphereMode = 3   # default: efficiently calculate eight path lenghts per neutrino and take the average\n",
    "\n",
    "# This parameter governs the precision with which nuCraft computes the weights; it is the upper\n",
    "# limit for the deviation of the sum of the resulting probabilities from unitarity.\n",
    "# You can verify this by checking the output plot example-standAlone2.png.\n",
    "numPrec = 5e-4\n",
    "\n",
    "# 12, -12:  NuE, NuEBar\n",
    "# 14, -14:  NuMu, NuMuBar\n",
    "# 16, -16:  NuTau, NuTauBar\n",
    "pType = 14\n",
    "\n",
    "print(\"Calculating...\")\n",
    "\n",
    "# saving the current time to measure the time needed for the execution of the following code\n",
    "t = time()\n",
    "\n",
    "### using lists (arrays, actually)\n",
    "zListLong, eListLong = meshgrid(zList, eList)\n",
    "zListLong = zListLong.flatten()\n",
    "eListLong = eListLong.flatten()\n",
    "tListLong = ones_like(eListLong)*pType\n",
    "\n",
    "# actual call to nuCraft for weight calculations:\n",
    "prob = AkhmedovOsci.CalcWeights((tListLong, eListLong, zListLong), numPrec=numPrec, atmMode=atmosphereMode)\n",
    "\n",
    "prob = rollaxis( array(prob).reshape(len(eList), len(zList),-1), 0,3)\n",
    "     # rollaxis is only needed to get the same shape as prob from above,\n",
    "     # i.e., four elements for the different zenith angles, of which each is an\n",
    "     # array of 3 x eBins (three oscillation probabilities for every energy bin)\n",
    "\n",
    "print(\"Calculating the probabilities took %f seconds.\" % (time()-t))\n",
    "print( \" \\n Completed without fatal errors! \\n \" )"
   ]
  },
  {
   "cell_type": "code",
   "execution_count": 7,
   "metadata": {},
   "outputs": [],
   "source": [
    "prob_numu_to_nutau = np.zeros((80, eBins))\n",
    "prob_numu_to_numu = np.zeros((80, eBins))\n",
    "prob_numu_to_nue = np.zeros((80, eBins))\n",
    "\n",
    "for i in range(80):\n",
    "    if i>=56:\n",
    "        prob_numu_to_nue[i] = 1\n",
    "        prob_numu_to_numu[i] = 1\n",
    "        prob_numu_to_nutau[i] = 1\n",
    "    else:\n",
    "        prob_numu_to_nue[i] = prob[i][0]\n",
    "        prob_numu_to_numu[i] = prob[i][1]\n",
    "        prob_numu_to_nutau[i] = prob[i][2]"
   ]
  },
  {
   "cell_type": "code",
   "execution_count": 9,
   "metadata": {},
   "outputs": [
    {
     "data": {
      "image/png": "[encoded data removed]",
      "text/plain": [
       "<Figure size 720x504 with 2 Axes>"
      ]
     },
     "metadata": {
      "needs_background": "light"
     },
     "output_type": "display_data"
    }
   ],
   "source": [
    "from matplotlib import cm, colors\n",
    "import matplotlib as mpl\n",
    "from mpl_toolkits.axes_grid1 import make_axes_locatable\n",
    "\n",
    "cos_theta_binning = np.linspace(-1, 1, 80)\n",
    "\n",
    "fig, ax = plt.subplots(figsize=(10,7))\n",
    "\n",
    "im = ax.imshow(prob_numu_to_numu, cmap='plasma', norm = None, origin = 'lower')  #[:,0:200]\n",
    "divider = make_axes_locatable(ax)\n",
    "cax = divider.append_axes(\"right\", size=\"5%\", pad=0.05)\n",
    "\n",
    "cbar = plt.colorbar(im, cax=cax)\n",
    "ax.set_xlabel('Energy (GeV)')\n",
    "ax.set_ylabel(r'$cos(\\theta_{zenith})$')\n",
    "ax.set_xticks(np.arange(0, 50, 10))\n",
    "ax.set_xticklabels([f'{np.round(eList[i],2)}' for i in np.arange(0, 50, 10)], rotation=45)\n",
    "ax.set_yticks(np.arange(0, 80, 10))\n",
    "ax.set_yticklabels([f'{np.round(cos_theta_binning[i],2)}' for i in np.arange(0, 80, 10)])\n",
    "\n",
    "cbar.set_label(r'$P(\\nu_{\\mu} \\rightarrow \\nu_{\\mu})$')\n",
    "#fig.savefig('numu oscillation')"
   ]
  },
  {
   "cell_type": "code",
   "execution_count": 10,
   "metadata": {},
   "outputs": [],
   "source": [
    "# Binning\n",
    "cos_theta_binning = np.linspace(-1, 1, 80)\n",
    "\n",
    "# cos intervals for binning\n",
    "cos_intervals = np.round(np.arange(1, -1, -0.1), 2)\n",
    "cos_bins = np.digitize(cos_theta_binning, cos_intervals, right=True)                                \n",
    "    \n",
    "# energy intervals\n",
    "energy_min = np.genfromtxt('numu_cc.csv', skip_header = 1, delimiter =',')[:,0]\n",
    "energy_max = np.genfromtxt('numu_cc.csv', skip_header = 1, delimiter =',')[:,1]\n",
    "energy_bins = np.digitize(eList, energy_min)\n",
    "energy_binwidths = energy_max - energy_min"
   ]
  },
  {
   "cell_type": "code",
   "execution_count": 11,
   "metadata": {},
   "outputs": [],
   "source": [
    "# Labels \n",
    "\n",
    "xticks = np.arange(-0.5, 10.5, 1)\n",
    "energy_ticklabels = np.append(energy_min, energy_max[-1])\n",
    "energy_strings = [f'{energy_ticklabels[i]}' for i in range(len(xticks))]\n",
    "\n",
    "cos_values = np.round(np.arange(1, -1.1, -0.1), 2)\n",
    "yticks = np.arange(-0.5, 20, 1)\n",
    "ylabels = [f'{cos_values[i]}' for i in range(len(yticks))]"
   ]
  },
  {
   "cell_type": "code",
   "execution_count": 12,
   "metadata": {},
   "outputs": [],
   "source": [
    "def bin_matrix(matrix, make_plot = False, savefig = None):\n",
    "    \n",
    "    #Binning\n",
    "    matrix_ybinned = np.zeros((len(cos_intervals) , len(matrix[0])))\n",
    "\n",
    "    # averaging rows in same interval\n",
    "    for i in range(1, len(cos_intervals)+1):\n",
    "        rows = np.where(cos_bins == i)[0]\n",
    "        averaged_row = np.mean(matrix[rows[0] : rows[-1]+1, : ], axis = 0)\n",
    "        matrix_ybinned[ i-1 , : ] = averaged_row\n",
    "    \n",
    "    binned_matrix = np.zeros((len(cos_intervals), len(energy_min)))  \n",
    "\n",
    "    # averaging columns in same interval\n",
    "    for i in range(1, len(energy_min)+1):\n",
    "        columns = np.where(energy_bins == i)[0]\n",
    "        averaged_column = np.mean(matrix_ybinned[ : , columns[0] : columns[-1]+1], axis = 1)\n",
    "        binned_matrix[ : , i-1 ] = averaged_column\n",
    "        \n",
    "    if make_plot == True:\n",
    "        fig, ax = plt.subplots(figsize=(10,7))\n",
    "\n",
    "        im = ax.imshow(binned_matrix, cmap='plasma')\n",
    "        divider = make_axes_locatable(ax)\n",
    "        cax = divider.append_axes(\"right\", size=\"5%\", pad=0.05)\n",
    "\n",
    "        cbar = plt.colorbar(im, cax=cax)\n",
    "        ax.set_xlabel('Energy (GeV)')\n",
    "        ax.set_ylabel(r'$cos(\\theta_{zenith})$')\n",
    "        ax.set_xticks(xticks)\n",
    "        ax.set_xticklabels(energy_strings, rotation = 45)\n",
    "        ax.set_yticks(yticks)\n",
    "        ax.set_yticklabels(ylabels)\n",
    "        cbar_label = r'$P(\\nu_{\\mu} \\rightarrow \\nu_{\\tau})$'\n",
    "        cbar.set_label(cbar_label)\n",
    "        \n",
    "        if savefig != None:\n",
    "            fig.savefig(savefig)\n",
    "        \n",
    "    return binned_matrix"
   ]
  },
  {
   "cell_type": "code",
   "execution_count": 3,
   "metadata": {},
   "outputs": [
    {
     "name": "stdout",
     "output_type": "stream",
     "text": [
      "[  1.        1.04762   1.0975    1.14976   1.2045    1.26186   1.32194   1.38489   1.45083   1.51991   1.59228   1.6681    1.74753   1.83074\n",
      "   1.91791   2.00923   2.1049    2.20513   2.31013   2.42013   2.53536   2.65609   2.78256   2.91505   3.05386   3.19927   3.3516    3.51119\n",
      "   3.67838   3.85353   4.03702   4.22924   4.43062   4.64159   4.8626    5.09414   5.3367    5.59081   5.85702   6.13591   6.42807   6.73415\n",
      "   7.0548    7.39072   7.74264   8.11131   8.49753   8.90215   9.32603   9.7701   10.23531  10.72267  11.23324  11.76812  12.32847  12.9155\n",
      "  13.53048  14.17474  14.84968  15.55676  16.29751  17.07353  17.8865   18.73817  19.63041  20.56512  21.54435  22.5702   23.64489  24.77076\n",
      "  25.95024  27.18588  28.48036  29.83647  31.25716  32.74549  34.30469  35.93814  37.64936  39.44206  41.32012  43.28761  45.34879  47.5081\n",
      "  49.77024  52.14008  54.62277  57.22368  59.94843  62.80291  65.79332  68.92612  72.20809  75.64633  79.24829  83.02176  86.9749   91.11628\n",
      "  95.45485 100.     ] [ 1  1  1  1  1  1  1  1  1  1  2  2  2  2  2  2  2  2  2  2  3  3  3  3  3  3  3  3  3  3  4  4  4  4  4  4  4  4  4  4  5  5  5  5  5  5  5  5  5\n",
      "  5  6  6  6  6  6  6  6  6  6  6  7  7  7  7  7  7  7  7  7  7  8  8  8  8  8  8  8  8  8  8  9  9  9  9  9  9  9  9  9  9 10 10 10 10 10 10 10 10\n",
      " 10 10]\n"
     ]
    }
   ],
   "source": [
    "DM32_true = 2.51e-3\n",
    "sin_squared_23 = 0.452\n",
    "theta23_true = np.arcsin(np.sqrt(sin_squared_23))/np.pi*180.\n",
    "\n",
    "_, os_prob = op.oscillation_prob(theta23_true, DM32_true)"
   ]
  },
  {
   "cell_type": "code",
   "execution_count": 13,
   "metadata": {},
   "outputs": [
    {
     "data": {
      "image/png": "[encoded data removed]",
      "text/plain": [
       "<Figure size 720x504 with 2 Axes>"
      ]
     },
     "metadata": {
      "needs_background": "light"
     },
     "output_type": "display_data"
    }
   ],
   "source": [
    "binned_prob_numu_to_numu = bin_matrix(prob_numu_to_numu, make_plot=True) #, savefig = 'numu_oscillation_binned')"
   ]
  },
  {
   "cell_type": "code",
   "execution_count": 145,
   "metadata": {},
   "outputs": [],
   "source": [
    "np.savetxt('prob_numu_to_numu', binned_prob_numu_to_numu, delimiter=',')"
   ]
  },
  {
   "cell_type": "code",
   "execution_count": null,
   "metadata": {},
   "outputs": [],
   "source": []
  }
 ],
 "metadata": {
  "kernelspec": {
   "display_name": "Python 3",
   "language": "python",
   "name": "python3"
  },
  "language_info": {
   "codemirror_mode": {
    "name": "ipython",
    "version": 3
   },
   "file_extension": ".py",
   "mimetype": "text/x-python",
   "name": "python",
   "nbconvert_exporter": "python",
   "pygments_lexer": "ipython3",
   "version": "3.7.4"
  }
 },
 "nbformat": 4,
 "nbformat_minor": 4
}
